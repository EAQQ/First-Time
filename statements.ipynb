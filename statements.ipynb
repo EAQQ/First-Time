{
 "cells": [
  {
   "cell_type": "code",
   "execution_count": 27,
   "metadata": {},
   "outputs": [
    {
     "name": "stdout",
     "output_type": "stream",
     "text": [
      "x is bigger.\n"
     ]
    }
   ],
   "source": [
    "x = 388\n",
    "y = 90\n",
    "z = 108\n",
    "\n",
    "if x > y:\n",
    "    print(\"x is bigger.\")\n",
    "elif z > y or z > x:\n",
    "    print(\"Z is the bigger than at least one of the numbers.\")\n",
    "else:\n",
    "    print(\"who knows who the bigger number is.\")\n",
    "    \n"
   ]
  },
  {
   "cell_type": "code",
   "execution_count": 34,
   "metadata": {},
   "outputs": [
    {
     "name": "stdout",
     "output_type": "stream",
     "text": [
      "7\n"
     ]
    }
   ],
   "source": [
    "\n",
    "i = 6\n",
    "while i < 10:\n",
    "    i += 1\n",
    "    if i == 8:\n",
    "        break\n",
    "    print(i)"
   ]
  },
  {
   "cell_type": "code",
   "execution_count": null,
   "metadata": {},
   "outputs": [],
   "source": []
  },
  {
   "cell_type": "code",
   "execution_count": 16,
   "metadata": {},
   "outputs": [
    {
     "name": "stdout",
     "output_type": "stream",
     "text": [
      "Texas red\n",
      "Texas blue\n",
      "Texas orange\n",
      "Texas yellow\n",
      "California red\n",
      "California blue\n",
      "California orange\n",
      "California yellow\n",
      "New York red\n",
      "New York blue\n",
      "New York orange\n",
      "New York yellow\n"
     ]
    }
   ],
   "source": [
    "flowers = [\"Texas\", \"California\", \"New York\"]\n",
    "colors = [\"red\", \"blue\", \"orange\", \"yellow\"]\n",
    "first_list = []\n",
    "for flower in flowers:\n",
    "    for color in colors:\n",
    "        print(flower, color)\n"
   ]
  },
  {
   "cell_type": "code",
   "execution_count": 22,
   "metadata": {},
   "outputs": [
    {
     "name": "stdout",
     "output_type": "stream",
     "text": [
      "[0]\n",
      "[2]\n",
      "[4]\n",
      "[6]\n",
      "[8]\n"
     ]
    }
   ],
   "source": [
    "\n",
    "for number in range(10):\n",
    "    even_numbers = []\n",
    "    if number%2 == 0:\n",
    "        even_numbers.append(number)\n",
    "        print(even_numbers)\n",
    "    "
   ]
  },
  {
   "cell_type": "code",
   "execution_count": 25,
   "metadata": {},
   "outputs": [
    {
     "name": "stdout",
     "output_type": "stream",
     "text": [
      "t\n",
      "h\n",
      "e\n",
      " \n",
      "b\n"
     ]
    }
   ],
   "source": [
    "pizza = \"the best pizza in town is Johhny Bois\"\n",
    "\n",
    "for word in pizza:\n",
    "    print(word)\n",
    "    if word == \"b\":\n",
    "            break"
   ]
  },
  {
   "cell_type": "code",
   "execution_count": 43,
   "metadata": {},
   "outputs": [
    {
     "name": "stdout",
     "output_type": "stream",
     "text": [
      "120\n"
     ]
    }
   ],
   "source": [
    "x = []\n",
    "\n",
    "def my_func(num1, num2):\n",
    "        x = num1 * num2\n",
    "        if x > 10:\n",
    "            if x < 150:\n",
    "                print(x)\n",
    "my_func(10, 12)\n",
    "\n",
    "    "
   ]
  }
 ],
 "metadata": {
  "kernelspec": {
   "display_name": "Python 3.10.7 64-bit",
   "language": "python",
   "name": "python3"
  },
  "language_info": {
   "codemirror_mode": {
    "name": "ipython",
    "version": 3
   },
   "file_extension": ".py",
   "mimetype": "text/x-python",
   "name": "python",
   "nbconvert_exporter": "python",
   "pygments_lexer": "ipython3",
   "version": "3.10.7"
  },
  "orig_nbformat": 4,
  "vscode": {
   "interpreter": {
    "hash": "759d0d21976bd259edbb251dc21a2558bba30222ea54aab68b2315a5050e134b"
   }
  }
 },
 "nbformat": 4,
 "nbformat_minor": 2
}
