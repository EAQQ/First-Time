{
 "cells": [
  {
   "cell_type": "code",
   "execution_count": 1,
   "metadata": {},
   "outputs": [
    {
     "name": "stdout",
     "output_type": "stream",
     "text": [
      "c is greater than b\n"
     ]
    }
   ],
   "source": [
    "a = 901\n",
    "b = 23\n",
    "c = 90\n",
    "if b > a:\n",
    "    print(\"b is greater than A\")\n",
    "elif b == a:\n",
    "    print(\"a and b are equal\")\n",
    "else: c < a\n",
    "print(\"c is greater than b\")"
   ]
  },
  {
   "cell_type": "code",
   "execution_count": 8,
   "metadata": {},
   "outputs": [
    {
     "name": "stdout",
     "output_type": "stream",
     "text": [
      "Both conditions are True\n",
      "Its true-ish\n"
     ]
    }
   ],
   "source": [
    "a = 200\n",
    "b = 33\n",
    "c = 500\n",
    "if a > b and c > b: \n",
    "    print(\"Both conditions are True\")\n",
    "if a > b or c > b: \n",
    "    print(\"Its true-ish\")\n",
    "## And, or statements\n",
    "\n"
   ]
  },
  {
   "cell_type": "code",
   "execution_count": null,
   "metadata": {},
   "outputs": [],
   "source": []
  },
  {
   "cell_type": "code",
   "execution_count": null,
   "metadata": {},
   "outputs": [],
   "source": []
  },
  {
   "cell_type": "code",
   "execution_count": 9,
   "metadata": {},
   "outputs": [
    {
     "name": "stdout",
     "output_type": "stream",
     "text": [
      "Its above 10\n"
     ]
    }
   ],
   "source": [
    "x = 21\n",
    "v = 90\n",
    "##nested If statments\n",
    "if x > 10:\n",
    "    print(\"Its above 10\") ## this is the first filter\n",
    "    if x < 20:\n",
    "        print (\"and also below 20!\") ## if it passes then this is the second filter\n",
    "else:\n",
    "    print(\"We working on it\")\n",
    "        "
   ]
  },
  {
   "cell_type": "code",
   "execution_count": null,
   "metadata": {},
   "outputs": [],
   "source": []
  },
  {
   "cell_type": "code",
   "execution_count": 10,
   "metadata": {},
   "outputs": [
    {
     "name": "stdout",
     "output_type": "stream",
     "text": [
      "-2\n",
      "-1\n",
      "0\n",
      "1\n",
      "2\n",
      "3\n"
     ]
    }
   ],
   "source": [
    "#LOOPS\n",
    "i = -2\n",
    "while i < 6:\n",
    "    print(i)\n",
    "    if i == 3:\n",
    "        break   #this is a \"break statement\" which can stop a loop for a certain condition\n",
    "    i += 1\n"
   ]
  },
  {
   "cell_type": "code",
   "execution_count": null,
   "metadata": {},
   "outputs": [],
   "source": []
  },
  {
   "cell_type": "code",
   "execution_count": 5,
   "metadata": {},
   "outputs": [
    {
     "name": "stdout",
     "output_type": "stream",
     "text": [
      "['apple']\n",
      "['banada']\n",
      "['grape']\n"
     ]
    }
   ],
   "source": [
    "##For Loops\n",
    "fruits = [\"apple\", \"banada\", \"grape\"]\n",
    "\n",
    "for fruit in fruits:\n",
    "    list_new = []\n",
    "    list_new.append(fruit)\n",
    "    print(list_new)\n",
    "    "
   ]
  },
  {
   "cell_type": "code",
   "execution_count": 6,
   "metadata": {},
   "outputs": [
    {
     "name": "stdout",
     "output_type": "stream",
     "text": [
      "red apples\n",
      "red orange\n",
      "red borders\n",
      "big apples\n",
      "big orange\n",
      "big borders\n",
      "juicy apples\n",
      "juicy orange\n",
      "juicy borders\n"
     ]
    }
   ],
   "source": [
    "#nested loops\n",
    "adj = [\"red\", \"big\", \"juicy\"]\n",
    "fruits = [\"apples\", \"orange\", \"borders\"]\n",
    "for adjectives in adj:\n",
    "    for fruit in fruits:\n",
    "        print(adjectives, fruit)"
   ]
  },
  {
   "cell_type": "code",
   "execution_count": 7,
   "metadata": {},
   "outputs": [
    {
     "name": "stdout",
     "output_type": "stream",
     "text": [
      "These are even: 0\n",
      "These are even: 2\n",
      "These are even: 4\n"
     ]
    }
   ],
   "source": [
    "#range used to loop through set of code a certain amount of times. Range(100)\n",
    "\n",
    "for x in range(5):\n",
    "    if x%2 == 0:\n",
    "        print(\"These are even:\", x) \n",
    "\n",
    "    "
   ]
  },
  {
   "cell_type": "code",
   "execution_count": 23,
   "metadata": {},
   "outputs": [
    {
     "name": "stdout",
     "output_type": "stream",
     "text": [
      "Current date and Time... 2022-11-15 19:17:38.600735\n"
     ]
    }
   ],
   "source": [
    "# using Date time\n",
    "\n",
    "import datetime\n",
    "\n",
    "a = datetime.datetime.now()\n",
    "print(\"Current date and Time...\", a)"
   ]
  },
  {
   "cell_type": "code",
   "execution_count": 27,
   "metadata": {},
   "outputs": [
    {
     "name": "stdout",
     "output_type": "stream",
     "text": [
      "Just the date 2022-11-15\n"
     ]
    }
   ],
   "source": [
    "# Get just the date\n",
    "import datetime as dt\n",
    "\n",
    "b = dt.date.today()\n",
    "print(\"Just the date\", b)"
   ]
  },
  {
   "cell_type": "code",
   "execution_count": 30,
   "metadata": {},
   "outputs": [
    {
     "name": "stdout",
     "output_type": "stream",
     "text": [
      "2020-05-17 00:00:00\n"
     ]
    }
   ],
   "source": [
    "#Create a date object to represent a specific date\n",
    "\n",
    "c = dt.datetime(2020, 5, 17)\n",
    "print(c)"
   ]
  },
  {
   "cell_type": "code",
   "execution_count": 31,
   "metadata": {},
   "outputs": [
    {
     "name": "stdout",
     "output_type": "stream",
     "text": [
      "2022\n",
      "11\n",
      "15\n"
     ]
    }
   ],
   "source": [
    "from datetime import date\n",
    "today = date.today()\n",
    "# print todays year, month, dand day\n",
    "print(today.year)\n",
    "print(today.month)\n",
    "print(today.day)"
   ]
  },
  {
   "cell_type": "code",
   "execution_count": 38,
   "metadata": {},
   "outputs": [
    {
     "name": "stdout",
     "output_type": "stream",
     "text": [
      "Tuesday\n",
      "November\n",
      "20\n",
      "11/15/22\n"
     ]
    }
   ],
   "source": [
    "import datetime as dt\n",
    "example = dt.datetime.now()\n",
    "\n",
    "print(example.strftime('%A'))\n",
    "print(example.strftime('%B'))\n",
    "print(example.strftime('%H'))\n",
    "print(example.strftime('%D'))\n",
    "\n"
   ]
  },
  {
   "cell_type": "code",
   "execution_count": 2,
   "metadata": {},
   "outputs": [
    {
     "name": "stdout",
     "output_type": "stream",
     "text": [
      "2\n",
      "479001600\n",
      "6986.0\n",
      "8.0\n",
      "3.141592653589793\n",
      "7\n"
     ]
    }
   ],
   "source": [
    "import math\n",
    "print(math.ceil(1.4))\n",
    "\n",
    "print(math.factorial(12))\n",
    "print(math.fsum([12,12,34,25,35,3434,3434]))\n",
    "\n",
    "print(math.sqrt(64))\n",
    "print(math.pi)\n"
   ]
  },
  {
   "cell_type": "code",
   "execution_count": 4,
   "metadata": {},
   "outputs": [
    {
     "name": "stdout",
     "output_type": "stream",
     "text": [
      "5\n",
      "0.03850393858421486\n"
     ]
    }
   ],
   "source": [
    "\n",
    "import random\n",
    "\n",
    "dicethrow = random.randrange(1, 10)\n",
    "print(dicethrow)\n",
    "\n",
    "prob = random.random()\n",
    "print(prob)\n",
    "\n"
   ]
  },
  {
   "cell_type": "code",
   "execution_count": 7,
   "metadata": {},
   "outputs": [
    {
     "name": "stdout",
     "output_type": "stream",
     "text": [
      "['cherry', 'bannane', 'apple']\n"
     ]
    }
   ],
   "source": [
    "orderedlist = [\"apple\", \"cherry\", \"bannane\"]\n",
    "random.shuffle(orderedlist)\n",
    "print(orderedlist)"
   ]
  },
  {
   "cell_type": "code",
   "execution_count": 10,
   "metadata": {},
   "outputs": [
    {
     "name": "stdout",
     "output_type": "stream",
     "text": [
      "50\n"
     ]
    }
   ],
   "source": [
    "def My_message(x, y):\n",
    "    import random\n",
    "    lottery = random.randrange(x, y)\n",
    "    print(lottery)\n",
    "    \n",
    "My_message(2, 90)\n",
    "#lambda\n",
    "\n",
    "\n",
    "\n",
    "\n",
    "\n",
    "\n",
    "    \n",
    "    \n",
    "    "
   ]
  }
 ],
 "metadata": {
  "kernelspec": {
   "display_name": "Python 3.10.7 64-bit",
   "language": "python",
   "name": "python3"
  },
  "language_info": {
   "codemirror_mode": {
    "name": "ipython",
    "version": 3
   },
   "file_extension": ".py",
   "mimetype": "text/x-python",
   "name": "python",
   "nbconvert_exporter": "python",
   "pygments_lexer": "ipython3",
   "version": "3.10.7"
  },
  "orig_nbformat": 4,
  "vscode": {
   "interpreter": {
    "hash": "759d0d21976bd259edbb251dc21a2558bba30222ea54aab68b2315a5050e134b"
   }
  }
 },
 "nbformat": 4,
 "nbformat_minor": 2
}
