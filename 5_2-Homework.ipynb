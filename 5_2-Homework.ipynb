{
 "cells": [
  {
   "cell_type": "markdown",
   "metadata": {},
   "source": [
    "# Homework Answers for **5.2**\n",
    "---\n",
    "\n",
    "1. A set of principles or steps that will complete a certain task. \n",
    "2. Python is interpretive. It reads and types similarly to how human language is spoken. Other types of languages are low level and languages and resemble more of binary code. \n",
    "3. Yes. Python possess NLTK or a natural language toolkit. This kit helps its NLP or natural language processing ability. \n",
    "4.\n",
    "5.  A semantic error is when the program works; *however*, it gives a different result. \n",
    "6. Variable names may not start with a digit or underscore. \n",
    "7. Reserved_python_words = [and, except, lambda, with, as]\n",
    "8. To start with the code and read or iterate line by line. Another rule of thumb is to run code throughout as you are building your program so you can easily identify when a part of your code does not work. \n",
    "9. [Combining Lists: The Zip Function] (https://www.codecademy.com/article/zip-for-lists)\n",
    "\n"
   ]
  },
  {
   "cell_type": "code",
   "execution_count": 32,
   "metadata": {},
   "outputs": [
    {
     "name": "stdout",
     "output_type": "stream",
     "text": [
      "Edward Austin, \n",
      "chinese food, \n",
      "to become an entertainer.\n",
      "16\n",
      " \n",
      "ing Data Analytics \n",
      "Learning Data Analytics and Python is great!\n",
      "Hi my name is Edward Austin, I am 34 and 68 old today\n",
      "34.0\n"
     ]
    }
   ],
   "source": [
    "About_me = ('''Edward Austin, \\nchinese food, \\nto become an entertainer.''')\n",
    "print(About_me)\n",
    "\n",
    "Number = int(5)\n",
    "String = str(\"Yay for learning\")\n",
    "float_y = float(20.1)\n",
    "My_stuff = [\"protein\", \"milk\", \"eggs\"]\n",
    "How_far = range(100)\n",
    "\n",
    "print(len(String))\n",
    "print(String[3]) #<-- is a blank space after \"yay\"\n",
    "savvy = \"Learning Data Analytics and Python is Awesome!\"\n",
    "savvy_sliced = savvy[5:24] \n",
    "print(savvy_sliced)\n",
    "replaced_Awesome = savvy.replace(\"Awesome\", \"great\") \n",
    "print(replaced_Awesome)\n",
    "name, age, length = \"Edward Austin\", 34, 68\n",
    "miniBo = \"Hi my name is {}, I am {} and {} old today\"\n",
    "print(miniBo.format(name, age, length))\n",
    "age = float(34)\n",
    "print(age)\n",
    "\n",
    "\n"
   ]
  },
  {
   "cell_type": "code",
   "execution_count": null,
   "metadata": {},
   "outputs": [],
   "source": []
  },
  {
   "cell_type": "markdown",
   "metadata": {},
   "source": []
  }
 ],
 "metadata": {
  "kernelspec": {
   "display_name": "Python 3.10.7 64-bit",
   "language": "python",
   "name": "python3"
  },
  "language_info": {
   "codemirror_mode": {
    "name": "ipython",
    "version": 3
   },
   "file_extension": ".py",
   "mimetype": "text/x-python",
   "name": "python",
   "nbconvert_exporter": "python",
   "pygments_lexer": "ipython3",
   "version": "3.10.7"
  },
  "orig_nbformat": 4,
  "vscode": {
   "interpreter": {
    "hash": "759d0d21976bd259edbb251dc21a2558bba30222ea54aab68b2315a5050e134b"
   }
  }
 },
 "nbformat": 4,
 "nbformat_minor": 2
}
