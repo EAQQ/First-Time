{
 "cells": [
  {
   "cell_type": "code",
   "execution_count": 1,
   "metadata": {},
   "outputs": [
    {
     "name": "stdout",
     "output_type": "stream",
     "text": [
      "Renting a car is more affordable\n"
     ]
    }
   ],
   "source": [
    "#1.\n",
    "age = 30\n",
    "if age >= 25:\n",
    "    print(\"Renting a car is more affordable\")\n",
    "elif age <=25:\n",
    "    print(\"Renting a car is very expensive\")"
   ]
  },
  {
   "cell_type": "code",
   "execution_count": 39,
   "metadata": {},
   "outputs": [
    {
     "name": "stdout",
     "output_type": "stream",
     "text": [
      "You cannot legally rent a car.\n"
     ]
    }
   ],
   "source": [
    "#2.\n",
    "age = 8\n",
    "if age >= 25:\n",
    "    print(\"Renting a car is more affordable.\")\n",
    "elif 25 > age >= 18:\n",
    "    print(\"Renting a car is very expensive.\")\n",
    "else: \n",
    "    print(\"You cannot legally rent a car.\")\n",
    "    "
   ]
  },
  {
   "cell_type": "code",
   "execution_count": 66,
   "metadata": {},
   "outputs": [
    {
     "name": "stdout",
     "output_type": "stream",
     "text": [
      "43\n",
      "['e', 'u', 'i', 'o', 'o', 'u', 'o', 'e', 'e', 'a', 'o']\n"
     ]
    }
   ],
   "source": [
    "#3. \n",
    "dog_phrase = \"The quick brown fox jumps over the lazy dog\"\n",
    "vowel_list = []\n",
    "for words in dog_phrase:\n",
    "    if words == 'a':\n",
    "        vowel_list.append(words)\n",
    "    elif words == 'e':\n",
    "        vowel_list.append(words)\n",
    "    elif words == 'i':\n",
    "        vowel_list.append(words)\n",
    "    elif words == 'o':\n",
    "        vowel_list.append(words)\n",
    "    elif words == 'u':\n",
    "        vowel_list.append(words)\n",
    "print(len(dog_phrase))\n",
    "print(vowel_list)\n",
    "\n",
    "\n"
   ]
  },
  {
   "cell_type": "code",
   "execution_count": 40,
   "metadata": {},
   "outputs": [
    {
     "name": "stdout",
     "output_type": "stream",
     "text": [
      "trousers auburn\n",
      "trousers maple\n",
      "trousers cerise\n",
      "trousers aqua\n",
      "trousers fuchsia\n",
      "trousers Dark Sapphire\n",
      "trousers burnt sienna\n",
      "trousers gunmetal blue\n",
      "blouse auburn\n",
      "blouse maple\n",
      "blouse cerise\n",
      "blouse aqua\n",
      "blouse fuchsia\n",
      "blouse Dark Sapphire\n",
      "blouse burnt sienna\n",
      "blouse gunmetal blue\n",
      "bandana auburn\n",
      "bandana maple\n",
      "bandana cerise\n",
      "bandana aqua\n",
      "bandana fuchsia\n",
      "bandana Dark Sapphire\n",
      "bandana burnt sienna\n",
      "bandana gunmetal blue\n",
      "cumber band auburn\n",
      "cumber band maple\n",
      "cumber band cerise\n",
      "cumber band aqua\n",
      "cumber band fuchsia\n",
      "cumber band Dark Sapphire\n",
      "cumber band burnt sienna\n",
      "cumber band gunmetal blue\n",
      "blazer auburn\n",
      "blazer maple\n",
      "blazer cerise\n",
      "blazer aqua\n",
      "blazer fuchsia\n",
      "blazer Dark Sapphire\n",
      "blazer burnt sienna\n",
      "blazer gunmetal blue\n",
      "vest auburn\n",
      "vest maple\n",
      "vest cerise\n",
      "vest aqua\n",
      "vest fuchsia\n",
      "vest Dark Sapphire\n",
      "vest burnt sienna\n",
      "vest gunmetal blue\n",
      "french beret auburn\n",
      "french beret maple\n",
      "french beret cerise\n",
      "french beret aqua\n",
      "french beret fuchsia\n",
      "french beret Dark Sapphire\n",
      "french beret burnt sienna\n",
      "french beret gunmetal blue\n",
      "scarf auburn\n",
      "scarf maple\n",
      "scarf cerise\n",
      "scarf aqua\n",
      "scarf fuchsia\n",
      "scarf Dark Sapphire\n",
      "scarf burnt sienna\n",
      "scarf gunmetal blue\n",
      "stole auburn\n",
      "stole maple\n",
      "stole cerise\n",
      "stole aqua\n",
      "stole fuchsia\n",
      "stole Dark Sapphire\n",
      "stole burnt sienna\n",
      "stole gunmetal blue\n"
     ]
    }
   ],
   "source": [
    "#4.\n",
    "couture = [\"trousers\", \"blouse\", \"bandana\", \"cumber band\", \"blazer\", \"vest\", \"french beret\", \"scarf\", \"stole\"]\n",
    "panettone = {\"cerise\", \"fuchsia\", \"aqua\", \"maple\", \"auburn\", \"burnt sienna\", \"gunmetal blue\", \"Dark Sapphire\"}\n",
    "for type in couture:\n",
    "    for color in panettone:\n",
    "        print(type, color)\n",
    "\n"
   ]
  },
  {
   "cell_type": "code",
   "execution_count": 64,
   "metadata": {},
   "outputs": [
    {
     "name": "stdout",
     "output_type": "stream",
     "text": [
      "4950\n"
     ]
    }
   ],
   "source": [
    "#5.\n",
    "total = 0 \n",
    "for i in range(100):\n",
    "    total += i \n",
    "print(total)\n",
    "    \n"
   ]
  },
  {
   "cell_type": "code",
   "execution_count": 87,
   "metadata": {},
   "outputs": [
    {
     "name": "stdout",
     "output_type": "stream",
     "text": [
      "banana\n",
      "['kiwi', 'melon']\n",
      "['cherry', 'orange', 'kiwi']\n",
      "7\n",
      "['orange', 'melon', 'mango', 'kiwi', 'cherry', 'banana', 'apple']\n",
      "2022-11-18 22:34:20.901662\n",
      "Hi Jimmy, Hope you have a happy Monday\n",
      "Hi Jimmy, Hope you have a happy Sunday\n"
     ]
    }
   ],
   "source": [
    "#6.\n",
    "fruits = [\"apple\", \"banana\", \"cherry\"]\n",
    "print(fruits[1])\n",
    "#7. \n",
    "fruits[0] = 'kiwi'\n",
    "#8. \n",
    "fruits.append(\"orange\")\n",
    "#9. \n",
    "fruits.insert(1, \"lemon\")\n",
    "#10. \n",
    "fruits.remove(\"banana\")\n",
    "#11. \n",
    "fruits2 = [\"apple\", \"banana\", \"cherry\", \"orange\", \"kiwi\", \"melon\", \"mango\"]\n",
    "print(fruits2[-3:-1])\n",
    "#12. \n",
    "print(fruits2[2:5])\n",
    "#13. \n",
    "print(len(fruits2))\n",
    "#14. \n",
    "fruits3 = [\"apple\", \"banana\", \"cherry\", \"orange\", \"kiwi\", \"melon\", \"mango\"]\n",
    "fruits3.sort(reverse = True)\n",
    "print(fruits3)\n"
   ]
  },
  {
   "cell_type": "code",
   "execution_count": null,
   "metadata": {},
   "outputs": [],
   "source": [
    "\n",
    "#15. \n",
    "import datetime as dt \n",
    "today = dt.datetime.now()\n",
    "print(today)\n"
   ]
  },
  {
   "cell_type": "code",
   "execution_count": null,
   "metadata": {},
   "outputs": [],
   "source": [
    "\n",
    "#16. \n",
    "\n",
    "def name_and_day(name, day = \"Sunday\"):\n",
    "    print(\"Hi \" + name +\", \" +\"Hope you have a happy \" + day)\n",
    "name_and_day(\"Jimmy\", \"Monday\")\n",
    "name_and_day(\"Jimmy\")\n",
    "    \n",
    "    \n"
   ]
  },
  {
   "cell_type": "code",
   "execution_count": 98,
   "metadata": {},
   "outputs": [
    {
     "name": "stdout",
     "output_type": "stream",
     "text": [
      "[[[ 0  1]\n",
      "  [ 2  3]\n",
      "  [ 4  5]]\n",
      "\n",
      " [[ 6  7]\n",
      "  [ 8  9]\n",
      "  [10 11]]]\n",
      "[ 0.  4.  8. 12. 16. 20.]\n"
     ]
    }
   ],
   "source": [
    "#17. \n",
    "import numpy as np\n",
    "my_np = np.arange(12).reshape((2, 3, 2))\n",
    "print(my_np)\n",
    "\n",
    "#18. \n",
    "import numpy as np\n",
    "my_np2 = np.linspace(start = 0, stop = 20, num=6)\n",
    "print(my_np2)\n",
    "# 19. \n",
    "my_np2_copy = my_np2.copy()\n"
   ]
  },
  {
   "cell_type": "markdown",
   "metadata": {},
   "source": [
    "##### 20. Array are more compact than lists, use less space, are run much faster. They are able to perform much of the same functions in much more efficient manner. "
   ]
  }
 ],
 "metadata": {
  "kernelspec": {
   "display_name": "Python 3.10.7 64-bit",
   "language": "python",
   "name": "python3"
  },
  "language_info": {
   "codemirror_mode": {
    "name": "ipython",
    "version": 3
   },
   "file_extension": ".py",
   "mimetype": "text/x-python",
   "name": "python",
   "nbconvert_exporter": "python",
   "pygments_lexer": "ipython3",
   "version": "3.10.7"
  },
  "orig_nbformat": 4,
  "vscode": {
   "interpreter": {
    "hash": "759d0d21976bd259edbb251dc21a2558bba30222ea54aab68b2315a5050e134b"
   }
  }
 },
 "nbformat": 4,
 "nbformat_minor": 2
}
