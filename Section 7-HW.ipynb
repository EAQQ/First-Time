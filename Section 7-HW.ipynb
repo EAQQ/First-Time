{
 "cells": [
  {
   "cell_type": "markdown",
   "metadata": {},
   "source": [
    "1. The \".py\" extension and they must be imported\n",
    "2. ``` lotterypick = random.randrange(1,1000) ``` random methods module\n",
    "3. It allows you to test blocks of code, and prevent system crashes\n",
    "4. Arrays are an ordered sequence of elements able to hold different data types. \n",
    "5. Arrays use less memory and run code faster than lists. \n",
    "6. Specifies the dimension of the array, and is a data-type object. \n",
    "7. It can create multidimensional arrays and perform statisitcal analysis\n",
    "through math methods. \n",
    "8.  The np.vstack, np.hstack, or the np.hsplit are all methods used with arrays. \n",
    "9.  The array shape depends on the dimensions .ndim(), number of elements .shape(), and size .size(). \n",
    "10. An array with 3+ dimensions\n"
   ]
  },
  {
   "cell_type": "markdown",
   "metadata": {},
   "source": [
    "11. Arrays are able to use less memory, run faster, and much more efficient.\n",
    "12. An empty array generates its contents from np.zeros, np.ones, or np.random.rand. Each \n",
    "one of these tells python or numpy where to grab it components from. \n",
    "13. “Python Data Analysis Library\"\n",
    "14. Count and namedtuple\n",
    "15. Data Clease, normalization, visualization, inspection\n",
    "16. To permanently sort a datefrom one must add the parameter inplace = true\n",
    "17. CSV comma seperated values\n",
    "18. We do not like null values \n",
    "\n",
    "\n",
    "\n"
   ]
  },
  {
   "cell_type": "code",
   "execution_count": 28,
   "metadata": {},
   "outputs": [
    {
     "name": "stdout",
     "output_type": "stream",
     "text": [
      "[[25 16]\n",
      " [11  2]\n",
      " [13  4]\n",
      " [ 7 81]\n",
      " [ 5  6]\n",
      " [11 12]]\n",
      "[25 16]\n",
      "[11  2]\n",
      "[13  4]\n",
      "[ 7 81]\n",
      "[5 6]\n",
      "[11 12]\n",
      "12\n"
     ]
    }
   ],
   "source": [
    "import numpy as np\n",
    "a = np.array([[25, 16]])\n",
    "b = np.array([[11, 2], [13, 4]])\n",
    "c = np.array([[7, 81], [5, 6], [11, 12]])\n",
    "\n",
    "abc = np.concatenate((a,b,c))\n",
    "print(abc)\n",
    "abc_sorted = np.sort(abc)\n",
    "abc_reshaped = np.array(abc_sorted, ndmin = 2)\n",
    "\n",
    "zurk, xex, zombie, phil, dan, zerk = abc\n",
    "print(zurk)\n",
    "print(xex)\n",
    "print(zombie)\n",
    "print(phil)\n",
    "print(dan)\n",
    "print(zerk)\n"
   ]
  },
  {
   "cell_type": "code",
   "execution_count": 48,
   "metadata": {},
   "outputs": [
    {
     "name": "stdout",
     "output_type": "stream",
     "text": [
      "[10 11 12 13 14 15 16 17 20 21 22 23 24 25 26 27  0  1  2  3  4  5  6  7]\n",
      "12\n",
      "[13 14 15 16 17 20 21 22 23 24 25 26 27  0  1  2  3  4  5  6  7]\n",
      "[13 14 15 16 17 20 21 22 23 24 25 26]\n",
      "[2 3 4 5 6 7]\n",
      "[10 11 12 13 14 15 16 17 20 21 22 23 24 25 26]\n",
      "[20 22 24 26  0  2  4  6]\n",
      "[10 15 22 27  4]\n"
     ]
    }
   ],
   "source": [
    "\n",
    "one = ([10, 11, 12, 13, 14, 15, 16, 17])\n",
    "two = ([20, 21, 22, 23, 24, 25, 26, 27])\n",
    "three = ([ 0, 1, 2, 3, 4, 5, 6, 7])\n",
    "\n",
    "comboarray = np.concatenate((one, two, three))\n",
    "comboarray_sorted = np.sort(comboarray)\n",
    "print(comboarray)\n",
    "print(comboarray[2])\n",
    "print(comboarray[3:])\n",
    "print(comboarray[3:15])\n",
    "print(comboarray[-6:])\n",
    "print(comboarray[:-9])\n",
    "print(comboarray[8:23:2])\n",
    "print(comboarray[-24:-1:5])\n",
    "\n"
   ]
  },
  {
   "cell_type": "code",
   "execution_count": 2,
   "metadata": {},
   "outputs": [
    {
     "name": "stdout",
     "output_type": "stream",
     "text": [
      "[[[ 17.    70.    10.8 ]\n",
      "  [ 27.    80.3   20.71]]\n",
      "\n",
      " [[ 37.    90.02  30.8 ]\n",
      "  [ 47.   101.    41.  ]]\n",
      "\n",
      " [[ 57.4   94.    50.7 ]\n",
      "  [ 32.    85.5   36.2 ]]]\n",
      "[[[0.         0.         0.00934579]\n",
      "  [0.58823529 0.14714286 0.93551402]]\n",
      "\n",
      " [[1.17647059 0.286      1.87850467]\n",
      "  [1.76470588 0.44285714 2.8317757 ]]\n",
      "\n",
      " [[2.37647059 0.34285714 3.73831776]\n",
      "  [0.88235294 0.22142857 2.38317757]]]\n",
      "[[[0.00000e+00 0.00000e+00 1.07000e+00]\n",
      "  [1.70000e+02 7.21000e+02 1.07107e+02]]\n",
      "\n",
      " [[3.40000e+02 1.40140e+03 2.15070e+02]\n",
      "  [5.10000e+02 2.17000e+03 3.24210e+02]]\n",
      "\n",
      " [[6.86800e+02 1.68000e+03 4.28000e+02]\n",
      "  [2.55000e+02 1.08500e+03 2.72850e+02]]]\n"
     ]
    }
   ],
   "source": [
    "import numpy as np\n",
    "array_f = np.array([[[ 0.0,  0.0,  0.10], [10.0, 10.30, 10.01]],\n",
    "        [[20.0, 20.02, 20.10], [30.0, 31.0, 30.30]],\n",
    "        [[40.40, 24.0, 40.0], [15.0, 15.5, 25.5]]])\n",
    "\n",
    "array_d = np.array([[17.0, 70.0, 10.7]])\n",
    "print(np.add(array_d, array_f))\n",
    "print(np.divide(array_f, array_d))\n",
    "print(np.multiply(array_f, array_d))\n"
   ]
  },
  {
   "cell_type": "code",
   "execution_count": 58,
   "metadata": {},
   "outputs": [
    {
     "name": "stdout",
     "output_type": "stream",
     "text": [
      "[[[ 17.    70.    10.6 ]\n",
      "  [  7.    59.7    0.69]]\n",
      "\n",
      " [[ -3.    49.98  -9.4 ]\n",
      "  [-13.    39.   -19.6 ]]\n",
      "\n",
      " [[-23.4   46.   -29.3 ]\n",
      "  [  2.    54.5  -14.8 ]]]\n"
     ]
    }
   ],
   "source": [
    "print(np.subtract(array_d, array_f))"
   ]
  },
  {
   "cell_type": "code",
   "execution_count": 60,
   "metadata": {},
   "outputs": [
    {
     "name": "stdout",
     "output_type": "stream",
     "text": [
      "[ 0.  0. 30. 24. 15.]\n"
     ]
    }
   ],
   "source": [
    "divisible_by_3 = array_f[array_f % 3 == 0]\n",
    "print(divisible_by_3)\n"
   ]
  },
  {
   "cell_type": "code",
   "execution_count": 1,
   "metadata": {},
   "outputs": [],
   "source": [
    "import pandas as pd\n"
   ]
  },
  {
   "cell_type": "code",
   "execution_count": 8,
   "metadata": {},
   "outputs": [
    {
     "name": "stdout",
     "output_type": "stream",
     "text": [
      "       0  1      2\n",
      "0  flour  4   cups\n",
      "1   Milk  1    cup\n",
      "2   Eggs  2  large\n",
      "3   Spam  1    can\n"
     ]
    }
   ],
   "source": [
    "ingredients = pd.Series([\"flour\", \"Milk\", \"Eggs\", \"Spam\"])\n",
    "quantity = pd.Series([4,1,2,1])\n",
    "unit = pd.Series([\"cups\", \"cup\", \"large\", \"can\"])\n",
    "\n",
    "cake_table = pd.concat([ingredients, quantity, unit], axis = 1)\n",
    "print(cake_table)"
   ]
  },
  {
   "cell_type": "code",
   "execution_count": 22,
   "metadata": {},
   "outputs": [
    {
     "data": {
      "text/html": [
       "<div>\n",
       "<style scoped>\n",
       "    .dataframe tbody tr th:only-of-type {\n",
       "        vertical-align: middle;\n",
       "    }\n",
       "\n",
       "    .dataframe tbody tr th {\n",
       "        vertical-align: top;\n",
       "    }\n",
       "\n",
       "    .dataframe thead th {\n",
       "        text-align: right;\n",
       "    }\n",
       "</style>\n",
       "<table border=\"1\" class=\"dataframe\">\n",
       "  <thead>\n",
       "    <tr style=\"text-align: right;\">\n",
       "      <th></th>\n",
       "      <th>Name</th>\n",
       "      <th>Height</th>\n",
       "      <th>Qualification</th>\n",
       "      <th>address</th>\n",
       "      <th>Age</th>\n",
       "      <th>Pets</th>\n",
       "      <th>sport</th>\n",
       "      <th>snacks</th>\n",
       "    </tr>\n",
       "  </thead>\n",
       "  <tbody>\n",
       "    <tr>\n",
       "      <th>1</th>\n",
       "      <td>janusha</td>\n",
       "      <td>6.2</td>\n",
       "      <td>MA</td>\n",
       "      <td>Doha</td>\n",
       "      <td>23</td>\n",
       "      <td>Bunny</td>\n",
       "      <td>Basketball</td>\n",
       "      <td>Cashew Fudge</td>\n",
       "    </tr>\n",
       "    <tr>\n",
       "      <th>0</th>\n",
       "      <td>Jai</td>\n",
       "      <td>5.1</td>\n",
       "      <td>Msc</td>\n",
       "      <td>Delhi</td>\n",
       "      <td>21</td>\n",
       "      <td>Dog</td>\n",
       "      <td>Darts</td>\n",
       "      <td>ice cream</td>\n",
       "    </tr>\n",
       "    <tr>\n",
       "      <th>3</th>\n",
       "      <td>Anuj</td>\n",
       "      <td>5.2</td>\n",
       "      <td>Msc</td>\n",
       "      <td>Dakhar</td>\n",
       "      <td>21</td>\n",
       "      <td>Parrot</td>\n",
       "      <td>Cricket</td>\n",
       "      <td>Carrot Halwa</td>\n",
       "    </tr>\n",
       "    <tr>\n",
       "      <th>2</th>\n",
       "      <td>Gaurav</td>\n",
       "      <td>5.1</td>\n",
       "      <td>Msc</td>\n",
       "      <td>Chennai</td>\n",
       "      <td>24</td>\n",
       "      <td>Chinchilla</td>\n",
       "      <td>PaddleBoarding</td>\n",
       "      <td>waffels</td>\n",
       "    </tr>\n",
       "  </tbody>\n",
       "</table>\n",
       "</div>"
      ],
      "text/plain": [
       "      Name  Height Qualification  address  Age        Pets           sport  \\\n",
       "1  janusha     6.2            MA     Doha   23       Bunny      Basketball   \n",
       "0      Jai     5.1           Msc    Delhi   21         Dog           Darts   \n",
       "3     Anuj     5.2           Msc   Dakhar   21      Parrot         Cricket   \n",
       "2   Gaurav     5.1           Msc  Chennai   24  Chinchilla  PaddleBoarding   \n",
       "\n",
       "         snacks  \n",
       "1  Cashew Fudge  \n",
       "0     ice cream  \n",
       "3  Carrot Halwa  \n",
       "2       waffels  "
      ]
     },
     "execution_count": 22,
     "metadata": {},
     "output_type": "execute_result"
    }
   ],
   "source": [
    "import pandas as pd\n",
    "studentdata = pd.DataFrame({'Name': ['Jai', 'janusha', 'Gaurav', 'Anuj'],\n",
    "        'Height': [5.1, 6.2, 5.1, 5.2],\n",
    "        'Qualification': ['Msc', 'MA', 'Msc', 'Msc'],\n",
    "        'address': ['Delhi', 'Doha', 'Chennai', 'Dakhar'],\n",
    "        'Age': [21, 23, 24, 21],\n",
    "        'Pets': ['Dog', 'Bunny', 'Chinchilla', 'Parrot'],\n",
    "        'sport': ['Darts', 'Basketball', 'PaddleBoarding', 'Cricket']\n",
    "    })\n",
    "\n",
    "studentdata.sort_values(by = ['Name'], ascending = False)\n",
    "\n",
    "snacks = [\"ice cream\", \"Cashew Fudge\", \"waffels\", \"Carrot Halwa\"]\n",
    "studentdata['snacks'] = snacks\n",
    "studentdata.sort_values(by = ['address'], ascending = False)\n",
    "\n",
    "\n",
    "\n"
   ]
  },
  {
   "cell_type": "code",
   "execution_count": 25,
   "metadata": {},
   "outputs": [],
   "source": [
    "\n",
    "df = pd.DataFrame({'Cows': [12, 20], 'Goats': [22, 19]}, index=['Year 1', 'Year 2'])\n",
    "df.to_csv('df.csv', sep= '\\t')"
   ]
  },
  {
   "cell_type": "code",
   "execution_count": 31,
   "metadata": {},
   "outputs": [
    {
     "name": "stdout",
     "output_type": "stream",
     "text": [
      "   broccoli  lemons  apples  price\n",
      "1        23      90      12     12\n",
      "2        25      91      12     14\n",
      "3        27      10      32     12\n"
     ]
    }
   ],
   "source": [
    "df1 = pd.DataFrame({'broccoli': [23, 25, 27], 'lemons': [90, 91, 10], 'apples': [12,12,32]}, index = ['1','2','3'])\n",
    "df1.to_csv('df1.csv', sep = '\\t')\n",
    "\n",
    "#Change to csv file\n",
    "price = [12, 14, 12]\n",
    "df1['price'] = price\n",
    "print(df1)\n",
    "df1.to_csv('df1_edited.csv', sep= '\\t')"
   ]
  },
  {
   "cell_type": "markdown",
   "metadata": {},
   "source": []
  }
 ],
 "metadata": {
  "kernelspec": {
   "display_name": "Python 3.10.7 64-bit",
   "language": "python",
   "name": "python3"
  },
  "language_info": {
   "codemirror_mode": {
    "name": "ipython",
    "version": 3
   },
   "file_extension": ".py",
   "mimetype": "text/x-python",
   "name": "python",
   "nbconvert_exporter": "python",
   "pygments_lexer": "ipython3",
   "version": "3.10.7"
  },
  "orig_nbformat": 4,
  "vscode": {
   "interpreter": {
    "hash": "759d0d21976bd259edbb251dc21a2558bba30222ea54aab68b2315a5050e134b"
   }
  }
 },
 "nbformat": 4,
 "nbformat_minor": 2
}
