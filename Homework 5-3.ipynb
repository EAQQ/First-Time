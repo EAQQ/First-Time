{
 "cells": [
  {
   "cell_type": "code",
   "execution_count": 14,
   "metadata": {},
   "outputs": [
    {
     "name": "stdout",
     "output_type": "stream",
     "text": [
      "5\n",
      "[3, 2, 'orange']\n",
      "None\n",
      "['red', 3, 2, 'orange', 6, 3, 2, 'orange', 2, 3, 4, 5, 6]\n",
      "6\n"
     ]
    }
   ],
   "source": [
    "my_list = [\"apples\", 3, 2, \"orange\", 6]\n",
    "my_list[0] = \"red\"\n",
    "print(len(my_list))\n",
    "\n",
    "my_list2 = my_list[1:4]\n",
    "print(my_list2)\n",
    "my_list.extend(my_list2)\n",
    "simlist = [2,3,4,5,6]\n",
    "print(simlist.sort())\n",
    "simlist3 = simlist.copy()\n",
    "simlist4 = my_list + simlist\n",
    "print(simlist4)\n",
    "\n"
   ]
  },
  {
   "cell_type": "code",
   "execution_count": 46,
   "metadata": {},
   "outputs": [
    {
     "name": "stdout",
     "output_type": "stream",
     "text": [
      "3\n",
      "[2, 2, 2, 3, 3, 3, 4, 4, 4, 5, 5, 5, 6, 6, 6]\n",
      "2 3 4 5\n",
      "50\n",
      "(2, 3, 4, 5, 6, 2, 3, 4, 5)\n"
     ]
    }
   ],
   "source": [
    "tuple1 = (2,3,4,5,6)\n",
    "tuple2 = tuple1 * 3\n",
    "print(tuple2[11])\n",
    "print(sorted(tuple2))\n",
    "tuple3_modified = (2,3,4,5)\n",
    "(green, yellow, red, blue) = tuple3_modified\n",
    "print(green, yellow, red, blue)\n",
    "tuple4 = (50)\n",
    "print(tuple4)\n",
    "tuple_combined = tuple1 + tuple3_modified\n",
    "print(tuple_combined)\n",
    "\n",
    "\n",
    "\n",
    "\n"
   ]
  },
  {
   "cell_type": "code",
   "execution_count": 60,
   "metadata": {},
   "outputs": [
    {
     "name": "stdout",
     "output_type": "stream",
     "text": [
      "{2, 3, 'house'}\n",
      "set()\n",
      "{2, 3, 'red', 'blue', 'ford', 'orange'}\n"
     ]
    }
   ],
   "source": [
    "set1 = {\"blue\", \"red\", \"orange\"}\n",
    "set1.add(\"ford\")\n",
    "set2 = {\"house\", 2, 3, \"blueberry\"}\n",
    "set3 = set1.union(set2)\n",
    "set2.pop()\n",
    "print(set2)\n",
    "set1.clear()\n",
    "print(set1)\n",
    "set3.discard(\"house\")\n",
    "set3.remove(\"blueberry\")\n",
    "print(set3)"
   ]
  },
  {
   "cell_type": "code",
   "execution_count": 85,
   "metadata": {},
   "outputs": [
    {
     "name": "stdout",
     "output_type": "stream",
     "text": [
      "20\n",
      "dict_keys(['a', 'b', 'c', 'd', 'e', 'update'])\n",
      "dict_values(['Edward Austin', 'house', 20.5, 2022, 'sold', 'blue'])\n",
      "{}\n"
     ]
    }
   ],
   "source": [
    "dict1 = {'a':20, 'b': \"house\", 'c':20.5, 'd':2022, 'e': \"sold\"}\n",
    "print(dict1['a'])\n",
    "dict1['a'] = \"Edward Austin\"\n",
    "\n",
    "dict1[\"update\"] = \"blue\"\n",
    "dict_key = dict1.keys()\n",
    "print(dict_key)\n",
    "dict_values = dict1.values()\n",
    "print(dict_values)\n",
    "dict2 = dict1.copy()\n",
    "dict2.pop('a')\n",
    "dict2.clear()\n",
    "print(dict2)\n",
    "\n",
    "\n"
   ]
  },
  {
   "cell_type": "code",
   "execution_count": null,
   "metadata": {},
   "outputs": [],
   "source": []
  }
 ],
 "metadata": {
  "kernelspec": {
   "display_name": "Python 3.10.7 64-bit",
   "language": "python",
   "name": "python3"
  },
  "language_info": {
   "codemirror_mode": {
    "name": "ipython",
    "version": 3
   },
   "file_extension": ".py",
   "mimetype": "text/x-python",
   "name": "python",
   "nbconvert_exporter": "python",
   "pygments_lexer": "ipython3",
   "version": "3.10.7"
  },
  "orig_nbformat": 4,
  "vscode": {
   "interpreter": {
    "hash": "759d0d21976bd259edbb251dc21a2558bba30222ea54aab68b2315a5050e134b"
   }
  }
 },
 "nbformat": 4,
 "nbformat_minor": 2
}
